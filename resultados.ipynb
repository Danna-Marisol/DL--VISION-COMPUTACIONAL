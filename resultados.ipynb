{
  "nbformat": 4,
  "nbformat_minor": 0,
  "metadata": {
    "colab": {
      "provenance": []
    },
    "kernelspec": {
      "name": "python3",
      "display_name": "Python 3"
    },
    "language_info": {
      "name": "python"
    }
  },
  "cells": [
    {
      "cell_type": "code",
      "execution_count": null,
      "metadata": {
        "id": "__zrQiJ_2Zux"
      },
      "outputs": [],
      "source": [
        "# NOTEBOOK 3\n",
        "import pickle\n",
        "import pandas as pd\n",
        "import matplotlib.pyplot as plt\n",
        "import tensorflow as tf\n",
        "import mlflow\n",
        "\n",
        "# Cargar métricas guardadas\n",
        "with open('metrics.pkl', 'rb') as f:\n",
        "    metrics = pickle.load(f)\n",
        "    accuracies = metrics['accuracies']\n",
        "    f1_scores = metrics['f1_scores']\n",
        "    best_val_acc = metrics['best_val_acc']\n",
        "    best_history = metrics['best_history']\n",
        "\n",
        "print(f\"\\nPromedio Accuracy: {np.mean(accuracies):.4f}\")\n",
        "print(f\"Promedio F1-score: {np.mean(f1_scores):.4f}\")\n",
        "\n",
        "# Cargar el mejor modelo entrenado\n",
        "mejor_modelo = tf.keras.models.load_model(\"mejor_modelo.keras\")\n",
        "print(\"Modelo cargado desde mejor_modelo.keras\")\n",
        "\n",
        "# Visualización de métricas\n",
        "history_frame = pd.DataFrame(best_history)\n",
        "\n",
        "plt.figure(figsize=(10, 4))\n",
        "plt.subplot(1, 2, 1)\n",
        "plt.plot(history_frame['loss'], label='Entrenamiento')\n",
        "plt.plot(history_frame['val_loss'], label='Validación')\n",
        "plt.title('Pérdida (mejor modelo)')\n",
        "plt.xlabel('Épocas')\n",
        "plt.ylabel('Loss')\n",
        "plt.legend()\n",
        "\n",
        "plt.subplot(1, 2, 2)\n",
        "plt.plot(history_frame['binary_accuracy'], label='Entrenamiento')\n",
        "plt.plot(history_frame['val_binary_accuracy'], label='Validación')\n",
        "plt.title('Precisión binaria')\n",
        "plt.xlabel('Épocas')\n",
        "plt.ylabel('Accuracy')\n",
        "plt.legend()\n",
        "plt.tight_layout()\n",
        "plt.savefig(\"grafica_mejor_modelo.png\")\n",
        "plt.show()\n",
        "\n",
        "# Registrar la gráfica como artefacto en MLflow\n",
        "with mlflow.start_run(run_name=\"registro_mejor_grafica\"):\n",
        "    mlflow.log_artifact(\"grafica_mejor_modelo.png\", artifact_path=\"imagenes\")"
      ]
    }
  ]
}